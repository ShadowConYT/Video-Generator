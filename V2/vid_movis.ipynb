{
 "cells": [
  {
   "cell_type": "code",
   "execution_count": null,
   "metadata": {},
   "outputs": [],
   "source": [
    "import whisper, os\n",
    "import pyttsx3 as tts\n",
    "import google.generativeai as genai\n",
    "from dotenv import load_dotenv\n",
    "import movis as mv\n",
    "import json\n",
    "\n",
    "load_dotenv()\n",
    "GEMINI_KEY = os.getenv(\"GEMINI_API_KEY\")\n",
    "genai.configure(api_key=GEMINI_KEY)"
   ]
  },
  {
   "cell_type": "code",
   "execution_count": null,
   "metadata": {},
   "outputs": [],
   "source": [
    "def path_validation(path: str):\n",
    "    '''\n",
    "    This function will validate if the target path is valid\n",
    "    if not it will create a new folder\n",
    "\n",
    "    - path: str -> folder you want to validate\n",
    "    '''\n",
    "    if not os.path.exists(path):\n",
    "        os.makedirs(path)\n",
    "        return\n",
    "\n",
    "def speak(text: str, filename: str):\n",
    "    '''\n",
    "    This function will speak the given text and save the file in MP3 format\n",
    "\n",
    "    - text: str -> text you want to speak\n",
    "    - filename: str -> name of the file you want to save\n",
    "    '''\n",
    "    engine = tts.init()\n",
    "    engine.setProperty(\"rate\", 150)\n",
    "\n",
    "    folder = 'audio'\n",
    "    path_validation(folder)\n",
    "\n",
    "    engine.save_to_file(text, f'{folder}/{filename}.mp3')\n",
    "    engine.runAndWait()\n",
    "\n",
    "def generate_script(story_prompt: str, story_count: int):\n",
    "    '''\n",
    "    This function will generate a script based on the given prompt\n",
    "\n",
    "    - story_prompt: str -> prompt you want to generate\n",
    "    - story_count: int -> number of stories you want to generate\n",
    "    '''\n",
    "    model = genai.GenerativeModel('gemini-pro')\n",
    "    default_prompt = \"\"\"from now on return the output as regular text and the story should look\n",
    "                    like it being narrated by someone. Write a Short and simple story,\n",
    "                    You have to write maximum 170 words I want a plain text no symbols just the script, \n",
    "                    also the script content must be in 50 seconds duration, dont include any symbols or special characters,\"\"\"\n",
    "    title_prompt = \"For this story, I want you to write a 3 to 5 words title\"\n",
    "\n",
    "    story_folder = 'story'\n",
    "    audio_folder = 'audio'\n",
    "    \n",
    "    path_validation(story_folder)\n",
    "\n",
    "    for i in range(story_count):\n",
    "        story_content = model.generate_content(f'{default_prompt} {story_prompt}')\n",
    "        title_content = model.generate_content(f'{title_prompt} {story_content}')\n",
    "\n",
    "        with open(f'{story_folder}/story_{i}.json', 'w') as file:\n",
    "            data = json.dumps({\"title\": title_content.text, \"story\": story_content.text})\n",
    "            file.write(data)\n",
    "\n",
    "        with open(f'{story_folder}/story_{i}.json', 'r') as file:\n",
    "            text = json.load(file)\n",
    "            text = text['story']\n",
    "            text = [word.replace('\\n','') for word in text]\n",
    "            text = ''.join(text)\n",
    "            print(text)\n",
    "            speak(text, f'audio_{i}')"
   ]
  },
  {
   "cell_type": "code",
   "execution_count": null,
   "metadata": {},
   "outputs": [],
   "source": [
    "generate_script('Horror Crime Thriller', 2)"
   ]
  }
 ],
 "metadata": {
  "language_info": {
   "name": "python"
  }
 },
 "nbformat": 4,
 "nbformat_minor": 2
}
