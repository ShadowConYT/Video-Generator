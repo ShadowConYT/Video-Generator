{
 "cells": [
  {
   "cell_type": "code",
   "execution_count": 2,
   "metadata": {},
   "outputs": [
    {
     "data": {
      "text/plain": [
       "device(type='cpu')"
      ]
     },
     "execution_count": 2,
     "metadata": {},
     "output_type": "execute_result"
    }
   ],
   "source": [
    "import os\n",
    "from dotenv import load_dotenv\n",
    "from moviepy.editor import VideoFileClip, concatenate_videoclips, TextClip, ImageClip, CompositeVideoClip, AudioFileClip\n",
    "import pyttsx3 as tts\n",
    "import whisper\n",
    "import requests\n",
    "from pyunsplash import PyUnsplash\n",
    "load_dotenv()\n",
    "import torch\n",
    "torch.device(\"cuda\" if torch.cuda.is_available() else \"cpu\")"
   ]
  },
  {
   "cell_type": "code",
   "execution_count": 34,
   "metadata": {},
   "outputs": [],
   "source": [
    "def download_images(text: str, counts: int = 1):\n",
    "    for i in range(counts):\n",
    "        pu = PyUnsplash(api_key=os.getenv('UNSPLASH_ACCESS_KEY'))\n",
    "        photos = pu.photos(type_ = 'random', count = 1, query = text)\n",
    "        [photo] = photos.entries\n",
    "        print(photo.id, photo.link_download)\n",
    "        response = requests.get(photo.link_download, allow_redirects=True)\n",
    "\n",
    "        if os.path.exists('images'):\n",
    "            open(f'./images/{text}{i}.jpg', 'wb').write(response.content)\n",
    "        else:\n",
    "            os.mkdir('images')\n",
    "            open(f'images/{text}{i}.jpg', 'wb').write(response.content)"
   ]
  },
  {
   "cell_type": "code",
   "execution_count": 35,
   "metadata": {},
   "outputs": [
    {
     "name": "stdout",
     "output_type": "stream",
     "text": [
      "KFJuCzJiQYU https://unsplash.com/photos/KFJuCzJiQYU/download?ixid=M3w1NzQ1NjJ8MHwxfHJhbmRvbXx8fHx8fHx8fDE3MTA0NDA5ODd8\n",
      "Ytp_K5bwa0Q https://unsplash.com/photos/Ytp_K5bwa0Q/download?ixid=M3w1NzQ1NjJ8MHwxfHJhbmRvbXx8fHx8fHx8fDE3MTA0NDA5OTB8\n",
      "pOUA8Xay514 https://unsplash.com/photos/pOUA8Xay514/download?ixid=M3w1NzQ1NjJ8MHwxfHJhbmRvbXx8fHx8fHx8fDE3MTA0NDA5OTF8\n",
      "EpRAM95thHU https://unsplash.com/photos/EpRAM95thHU/download?ixid=M3w1NzQ1NjJ8MHwxfHJhbmRvbXx8fHx8fHx8fDE3MTA0NDA5OTR8\n",
      "tUCvnMOvXFQ https://unsplash.com/photos/tUCvnMOvXFQ/download?ixid=M3w1NzQ1NjJ8MHwxfHJhbmRvbXx8fHx8fHx8fDE3MTA0NDA5OTV8\n"
     ]
    }
   ],
   "source": [
    "download_images('Dog', counts = 5)"
   ]
  },
  {
   "cell_type": "code",
   "execution_count": 11,
   "metadata": {},
   "outputs": [],
   "source": [
    "for i in range(5):\n",
    "    with open(f'./stories/story_{i}.txt', 'r') as f:\n",
    "        text = f.read()\n",
    "\n",
    "def eleven_speak(text, file_name):\n",
    "    engine = tts.init()\n",
    "    engine.setProperty('rate', 200)\n",
    "    engine.save_to_file(text, f'audio/{file_name}.mp3')\n",
    "    engine.runAndWait()"
   ]
  },
  {
   "cell_type": "code",
   "execution_count": 13,
   "metadata": {},
   "outputs": [],
   "source": [
    "for j in range(5):\n",
    "    eleven_speak(text, f'story_{j}')"
   ]
  },
  {
   "cell_type": "code",
   "execution_count": 14,
   "metadata": {},
   "outputs": [],
   "source": [
    "def speech_to_text(audio_file):\n",
    "    model = whisper.load_model(\"base\")\n",
    "    data = model.transcribe(audio_file, word_timestamps=True)\n",
    "\n",
    "    start = [data['segments'][i]['words'][j]['start'] for i in range(len(data['segments'])) for j in range(len(data['segments'][i]['words']))]\n",
    "    end = [data['segments'][i]['words'][j]['end'] for i in range(len(data['segments'])) for j in range(len(data['segments'][i]['words']))]\n",
    "    text = [data['segments'][i]['words'][j]['word'] for i in range(len(data['segments'])) for j in range(len(data['segments'][i]['words']))]\n",
    "\n",
    "    return [start, end, text]"
   ]
  },
  {
   "cell_type": "code",
   "execution_count": null,
   "metadata": {},
   "outputs": [],
   "source": [
    "from moviepy.video.tools.subtitles import SubtitlesClip\n",
    "from moviepy.editor import CompositeAudioClip, concatenate_audioclips\n",
    "\n",
    "def generate_video():\n",
    "    image_list = ['Cat', 'Dog', 'Car', 'House', 'Tree']\n",
    "    for i in range(stories):\n",
    "        with open(f'stories/story_{i}.txt', 'r') as file:\n",
    "            print(f'Generating video for story {i}')\n",
    "            text = file.read()\n",
    "        \n",
    "        words = text.split(' ')\n",
    "\n",
    "        generator = lambda txt: TextClip(txt, \n",
    "                                    fontsize=70, \n",
    "                                    color='white', \n",
    "                                    bg_color='none', \n",
    "                                    font='Arial-Bold',\n",
    "                                    method = 'caption',\n",
    "                                    size = (1920, 1080))\n",
    "\n",
    "        image_clips = []\n",
    "\n",
    "        # Fetching images from Unsplash\n",
    "        for j in range(len(words) // 20 + 1):\n",
    "            images = get_images(image_list[j])\n",
    "            image_path = f'bg_{i}_{j}.jpg'\n",
    "            with open(image_path, 'wb') as file:\n",
    "\n",
    "\n",
    "        speech = speech_to_text(f'audio/story_{i}.mp3')\n",
    "        print(f'Accessing speech for story {i}')\n",
    "        subs = [((speech[0][k], speech[1][k]), speech[2][k]) for k in range(len(speech[0]))]\n",
    "\n",
    "        subtitles = SubtitlesClip(subs, generator)\n",
    "        audio_clip = AudioFileClip(f'audio/story_{i}.mp3')\n",
    "        video = VideoFileClip('../assets/BG.mp4')\n",
    "        final_complete = CompositeVideoClip([video.set_duration(audio_clip.duration), subtitles.set_position(('center', 'center'))])\n",
    "        final_complete = final_complete.set_audio(audio_clip)\n",
    "        final_complete.write_videofile(f\"output_{i}.mp4\" , fps=24, bitrate = '1000', preset = 'fast', codec = 'h264_nvenc')\n",
    "        final_complete.close()"
   ]
  }
 ],
 "metadata": {
  "kernelspec": {
   "display_name": ".venv",
   "language": "python",
   "name": "python3"
  },
  "language_info": {
   "codemirror_mode": {
    "name": "ipython",
    "version": 3
   },
   "file_extension": ".py",
   "mimetype": "text/x-python",
   "name": "python",
   "nbconvert_exporter": "python",
   "pygments_lexer": "ipython3",
   "version": "3.12.1"
  }
 },
 "nbformat": 4,
 "nbformat_minor": 2
}
