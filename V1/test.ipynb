{
 "cells": [
  {
   "cell_type": "code",
   "execution_count": 1,
   "metadata": {},
   "outputs": [
    {
     "name": "stdout",
     "output_type": "stream",
     "text": [
      "MoviePy Imported\n",
      "pyttsx3 Imported\n",
      "whisper Imported\n",
      "GenerativeAI Imported\n",
      "PyHT Imported\n",
      "Torch Imported\n"
     ]
    }
   ],
   "source": [
    "import os\n",
    "import json\n",
    "from dotenv import load_dotenv\n",
    "from moviepy.editor import VideoFileClip, concatenate_videoclips, TextClip, ImageClip, CompositeVideoClip, AudioFileClip\n",
    "print(\"MoviePy Imported\")\n",
    "import pyttsx3 as tts\n",
    "print(\"pyttsx3 Imported\")\n",
    "import whisper\n",
    "print(\"whisper Imported\")\n",
    "import requests\n",
    "import google.generativeai as genai\n",
    "print(\"GenerativeAI Imported\")\n",
    "load_dotenv()\n",
    "from pyht import Client, TTSOptions, Format\n",
    "print(\"PyHT Imported\")\n",
    "import torch\n",
    "print(\"Torch Imported\")\n",
    "torch.device(\"cuda\" if torch.cuda.is_available() else \"cpu\")\n",
    "client = Client(\"fn8dNXoXdOPpVq9srLrsoLtiLLL2\", os.getenv('HT_API_KEY'))\n",
    "gemini_key = os.getenv('GEMINI_API_KEY')\n",
    "genai.configure(api_key=gemini_key)"
   ]
  },
  {
   "cell_type": "code",
   "execution_count": 2,
   "metadata": {},
   "outputs": [],
   "source": [
    "def generate_script(prompt, stories):\n",
    "    model = genai.GenerativeModel('gemini-pro')\n",
    "    default_prompt = \"\"\"from now on return the output as regular text and the story should look\n",
    "                    like it being narrated by someone. Write a Short and simple story,\n",
    "                    You have to write maximum 170 words I want a plain text no symbols just the script, \n",
    "                    also the script content must be in 50 seconds duration, dont include any symbols or special characters,\"\"\"\n",
    "    title_prompt = \"For this story, I want you to write a 3 to 5 words title\"\n",
    "\n",
    "    for i in range(stories):\n",
    "        story = model.generate_content(f\"{default_prompt},{prompt}\")\n",
    "        title = model.generate_content(f\"{title_prompt},{story}\")\n",
    "        \n",
    "        print(f\"Title: {title.text}\")\n",
    "        print(f\"Story: {story.text}\")\n",
    "\n",
    "        json_data = json.dumps({\"title\": title.text, \"story\": story.text})\n",
    "        with open(f\"story_{i}.json\", \"w\") as f:\n",
    "            f.write(json_data)"
   ]
  },
  {
   "cell_type": "code",
   "execution_count": 3,
   "metadata": {},
   "outputs": [
    {
     "name": "stdout",
     "output_type": "stream",
     "text": [
      "Title: Haunted Mansion Visit\n",
      "Story: In the eerie silence of the night, a chilling breeze whispered through the ancient trees. As I cautiously approached the dilapidated mansion, its windows boarded up like watchful eyes, a sense of unease washed over me.\n",
      "\n",
      "With trembling hands, I pushed open the creaking door, its hinges groaning in protest. Inside, darkness enveloped me, suffocating and oppressive. As I fumbled for a light switch, my heart pounding in my chest, a sudden sound echoed from within the depths of the house—a faint laughter, as if from a long-forgotten soul.\n",
      "Title: Unlocking Hidden Secrets\n",
      "Story: In the eerie silence of the ancient manor, I found myself drawn to a dimly lit room at the end of a desolate corridor. Curiosity sparked within me, and I cautiously stepped inside.\n",
      "\n",
      "Shadows danced on the walls, casting an ominous glow. Cobwebs hung heavy from the ceiling, and dust swirled in the faint breeze. As my eyes adjusted to the gloom, I noticed a small wooden box resting on an ornate table.\n",
      "\n",
      "A shiver ran down my spine as I reached out to open it. Inside, nestled in faded velvet, lay a silver key. The intricate carvings on its surface whispered secrets forgotten by time.\n",
      "\n",
      "With trembling hands, I grasped the key and searched for a lock to fit it. As my fingers explored the darkness, I felt a cold spot on the wall. With a surge of anticipation, I inserted the key and turned.\n",
      "\n",
      "A heavy door creaked open, revealing a narrow, labyrinthine passage. Curiosity compelled me forward, and I disappeared into the unknown.\n"
     ]
    }
   ],
   "source": [
    "generate_script(\"Mystery\", 2)"
   ]
  },
  {
   "cell_type": "code",
   "execution_count": 4,
   "metadata": {},
   "outputs": [],
   "source": [
    "def get_images(text):\n",
    "    BASE = 'https://api.unsplash.com/photos/'\n",
    "    PAYLOAD = {\n",
    "        'query': text,\n",
    "        'client_id': os.getenv('UNSPLASH_ACCESS_KEY')\n",
    "    }\n",
    "    response = requests.get(BASE, params=PAYLOAD)\n",
    "    data = response.json()\n",
    "    return data"
   ]
  },
  {
   "cell_type": "code",
   "execution_count": 5,
   "metadata": {},
   "outputs": [
    {
     "name": "stdout",
     "output_type": "stream",
     "text": [
      "In the eerie silence of the night, a chilling breeze whispered through the ancient trees. As I cautiously approached the dilapidated mansion, its windows boarded up like watchful eyes, a sense of unease washed over me.With trembling hands, I pushed open the creaking door, its hinges groaning in protest. Inside, darkness enveloped me, suffocating and oppressive. As I fumbled for a light switch, my heart pounding in my chest, a sudden sound echoed from within the depths of the house—a faint laughter, as if from a long-forgotten soul.\n",
      "In the eerie silence of the ancient manor, I found myself drawn to a dimly lit room at the end of a desolate corridor. Curiosity sparked within me, and I cautiously stepped inside.Shadows danced on the walls, casting an ominous glow. Cobwebs hung heavy from the ceiling, and dust swirled in the faint breeze. As my eyes adjusted to the gloom, I noticed a small wooden box resting on an ornate table.A shiver ran down my spine as I reached out to open it. Inside, nestled in faded velvet, lay a silver key. The intricate carvings on its surface whispered secrets forgotten by time.With trembling hands, I grasped the key and searched for a lock to fit it. As my fingers explored the darkness, I felt a cold spot on the wall. With a surge of anticipation, I inserted the key and turned.A heavy door creaked open, revealing a narrow, labyrinthine passage. Curiosity compelled me forward, and I disappeared into the unknown.\n"
     ]
    }
   ],
   "source": [
    "# def eleven_speak(text_file, file_name):\n",
    "\n",
    "#     voice_of = generate(text=text_file,\n",
    "#                     voice = 'Adam')\n",
    "#     play(voice_of)\n",
    "\n",
    "def eleven_speak(text, file_name):\n",
    "    engine = tts.init()\n",
    "    engine.setProperty('rate', 200)\n",
    "    engine.save_to_file(text, f'audio/{file_name}.mp3')\n",
    "    engine.runAndWait()\n",
    "\n",
    "for i in range(2):\n",
    "    with open(f'story_{i}.json', 'r') as f:\n",
    "        text = json.load(f)\n",
    "        text = text['story']\n",
    "        text = [word.replace('\\n', '') for word in text]\n",
    "        new_text = ''.join(text)\n",
    "        print(new_text)\n",
    "        eleven_speak(new_text, f'story_{i}')"
   ]
  },
  {
   "cell_type": "code",
   "execution_count": 6,
   "metadata": {},
   "outputs": [],
   "source": [
    "def speech_to_text(audio_file):\n",
    "    model = whisper.load_model(\"base\")\n",
    "    data = model.transcribe(audio_file, word_timestamps=True)\n",
    "\n",
    "    start = [data['segments'][i]['words'][j]['start'] for i in range(len(data['segments'])) for j in range(len(data['segments'][i]['words']))]\n",
    "    end = [data['segments'][i]['words'][j]['end'] for i in range(len(data['segments'])) for j in range(len(data['segments'][i]['words']))]\n",
    "    text = [data['segments'][i]['words'][j]['word'] for i in range(len(data['segments'])) for j in range(len(data['segments'][i]['words']))]\n",
    "\n",
    "    return [start, end, text]"
   ]
  },
  {
   "cell_type": "code",
   "execution_count": 7,
   "metadata": {},
   "outputs": [],
   "source": [
    "from moviepy.video.tools.subtitles import SubtitlesClip\n",
    "from moviepy.editor import CompositeAudioClip, concatenate_audioclips\n",
    "\n",
    "def generate_video():\n",
    "    for i in range(2):\n",
    "        with open(f'stories/story_{i}.txt', 'r') as file:\n",
    "            print(f'Generating video for story {i}')\n",
    "            text = file.read()\n",
    "        \n",
    "        words = text.split(' ')\n",
    "\n",
    "        generator = lambda txt: TextClip(txt, \n",
    "                                    fontsize=70, \n",
    "                                    color='white', \n",
    "                                    bg_color='none', \n",
    "                                    font='Arial-Bold',\n",
    "                                    method = 'caption',\n",
    "                                    size = (1920, 1080))\n",
    "\n",
    "        # def clip_generator():\n",
    "        #     for _ in words:\n",
    "        #         yield CompositeVideoClip([ImageClip('Z_1.jpg').set_duration(0.5).set_position('center')], size=(720, 1280))\n",
    "\n",
    "        # clips = concatenate_videoclips(clip_generator(), method=\"compose\")\n",
    "\n",
    "        speech = speech_to_text(f'audio/story_{i}.mp3')\n",
    "        print(f'Accessing speech for story {i}')\n",
    "        subs = [((speech[0][k], speech[1][k]), speech[2][k]) for k in range(len(speech[0]))]\n",
    "\n",
    "        subtitles = SubtitlesClip(subs, generator)\n",
    "        audio_clip = AudioFileClip(f'audio/story_{i}.mp3')\n",
    "        video = VideoFileClip('../assets/BG.mp4')\n",
    "        final_complete = CompositeVideoClip([video.set_duration(audio_clip.duration), subtitles.set_position(('center', 'center'))])\n",
    "        final_complete = final_complete.set_audio(audio_clip)\n",
    "        final_complete.write_videofile(f\"output_{i}.mp4\" , fps=24, bitrate = '120000', preset = 'ultrafast', codec = 'h264_nvenc')\n",
    "        final_complete.close()\n"
   ]
  },
  {
   "cell_type": "code",
   "execution_count": 8,
   "metadata": {},
   "outputs": [
    {
     "name": "stdout",
     "output_type": "stream",
     "text": [
      "Generating video for story 0\n",
      "Accessing speech for story 0\n",
      "Moviepy - Building video output_0.mp4.\n",
      "MoviePy - Writing audio in output_0TEMP_MPY_wvf_snd.mp3\n"
     ]
    },
    {
     "name": "stderr",
     "output_type": "stream",
     "text": [
      "                                                                    \r"
     ]
    },
    {
     "name": "stdout",
     "output_type": "stream",
     "text": [
      "MoviePy - Done.\n",
      "Moviepy - Writing video output_0.mp4\n",
      "\n"
     ]
    },
    {
     "name": "stderr",
     "output_type": "stream",
     "text": [
      "                                                              \r"
     ]
    },
    {
     "name": "stdout",
     "output_type": "stream",
     "text": [
      "Moviepy - Done !\n",
      "Moviepy - video ready output_0.mp4\n",
      "Generating video for story 1\n",
      "Accessing speech for story 1\n",
      "Moviepy - Building video output_1.mp4.\n",
      "MoviePy - Writing audio in output_1TEMP_MPY_wvf_snd.mp3\n"
     ]
    },
    {
     "name": "stderr",
     "output_type": "stream",
     "text": [
      "                                                                      \r"
     ]
    },
    {
     "name": "stdout",
     "output_type": "stream",
     "text": [
      "MoviePy - Done.\n",
      "Moviepy - Writing video output_1.mp4\n",
      "\n"
     ]
    },
    {
     "name": "stderr",
     "output_type": "stream",
     "text": [
      "                                                                \r"
     ]
    },
    {
     "name": "stdout",
     "output_type": "stream",
     "text": [
      "Moviepy - Done !\n",
      "Moviepy - video ready output_1.mp4\n"
     ]
    }
   ],
   "source": [
    "generate_video()"
   ]
  },
  {
   "cell_type": "code",
   "execution_count": 2,
   "metadata": {},
   "outputs": [],
   "source": [
    "import httplib2\n",
    "import os\n",
    "import random\n",
    "import sys\n",
    "import time\n",
    "\n",
    "from apiclient.discovery import build\n",
    "from apiclient.errors import HttpError\n",
    "from apiclient.http import MediaFileUpload\n",
    "from oauth2client.client import flow_from_clientsecrets\n",
    "from oauth2client.file import Storage\n",
    "from oauth2client.tools import argparser, run_flow"
   ]
  },
  {
   "cell_type": "code",
   "execution_count": 3,
   "metadata": {},
   "outputs": [],
   "source": [
    "# Explicitly tell the underlying HTTP transport library not to retry, since\n",
    "# we are handling retry logic ourselves.\n",
    "httplib2.RETRIES = 1\n",
    "\n",
    "# Maximum number of times to retry before giving up.\n",
    "MAX_RETRIES = 10\n",
    "\n",
    "# Always retry when these exceptions are raised.\n",
    "RETRIABLE_EXCEPTIONS = (httplib2.HttpLib2Error, IOError)\n",
    "\n",
    "# Always retry when an apiclient.errors.HttpError with one of these status\n",
    "# codes is raised.\n",
    "RETRIABLE_STATUS_CODES = [500, 502, 503, 504]\n",
    "\n",
    "# The CLIENT_SECRETS_FILE variable specifies the name of a file that contains\n",
    "# the OAuth 2.0 information for this application, including its client_id and\n",
    "# client_secret. You can acquire an OAuth 2.0 client ID and client secret from\n",
    "# the Google API Console at\n",
    "# https://console.cloud.google.com/.\n",
    "# Please ensure that you have enabled the YouTube Data API for your project.\n",
    "# For more information about using OAuth2 to access the YouTube Data API, see:\n",
    "#   https://developers.google.com/youtube/v3/guides/authentication\n",
    "# For more information about the client_secrets.json file format, see:\n",
    "#   https://developers.google.com/api-client-library/python/guide/aaa_client_secrets\n",
    "CLIENT_SECRETS_FILE = \"../secrets.json\"\n"
   ]
  },
  {
   "cell_type": "code",
   "execution_count": 4,
   "metadata": {},
   "outputs": [],
   "source": [
    "# This OAuth 2.0 access scope allows an application to upload files to the\n",
    "# authenticated user's YouTube channel, but doesn't allow other types of access.\n",
    "YOUTUBE_UPLOAD_SCOPE = \"https://www.googleapis.com/auth/youtube.upload\"\n",
    "YOUTUBE_API_SERVICE_NAME = \"youtube\"\n",
    "YOUTUBE_API_VERSION = \"v3\""
   ]
  },
  {
   "cell_type": "code",
   "execution_count": 9,
   "metadata": {},
   "outputs": [],
   "source": [
    "VALID_PRIVACY_STATUSES = (\"public\", \"private\", \"unlisted\")\n",
    "\n",
    "\n",
    "def get_authenticated_service(args):\n",
    "    flow = flow_from_clientsecrets(CLIENT_SECRETS_FILE,\n",
    "                                   scope=YOUTUBE_UPLOAD_SCOPE,\n",
    "                                   message=MISSING_CLIENT_SECRETS_MESSAGE)\n",
    "\n",
    "    storage = Storage(\"%s-oauth2.json\" % sys.argv[0])\n",
    "    credentials = storage.get()\n",
    "\n",
    "    if credentials is None or credentials.invalid:\n",
    "        credentials = run_flow(flow, storage, args)\n",
    "\n",
    "    return build(YOUTUBE_API_SERVICE_NAME, YOUTUBE_API_VERSION,\n",
    "                 http=credentials.authorize(httplib2.Http()))\n",
    "    \n",
    "MISSING_CLIENT_SECRETS_MESSAGE = \"\"\"\n",
    "WARNING: Please configure OAuth 2.0\n",
    "\n",
    "To make this sample run you will need to populate the client_secrets.json file\n",
    "found at:\n",
    "\n",
    "   %s\n",
    "\n",
    "with information from the API Console\n",
    "https://console.cloud.google.com/\n",
    "\n",
    "For more information about the client_secrets.json file format, please visit:\n",
    "https://developers.google.com/api-client-library/python/guide/aaa_client_secrets\n",
    "\"\"\" "
   ]
  },
  {
   "cell_type": "code",
   "execution_count": 10,
   "metadata": {},
   "outputs": [],
   "source": [
    "def initialize_upload(youtube, options):\n",
    "    tags = None\n",
    "    if options.keywords:\n",
    "        tags = options.keywords.split(\",\")\n",
    "\n",
    "    body = dict(\n",
    "        snippet=dict(\n",
    "            title=options.title,\n",
    "            description=options.description,\n",
    "            tags=tags,\n",
    "            categoryId=options.category\n",
    "        ),\n",
    "        status=dict(\n",
    "            privacyStatus=options.privacyStatus\n",
    "        )\n",
    "    )\n",
    "\n",
    "    # Call the API's videos.insert method to create and upload the video.\n",
    "    insert_request = youtube.videos().insert(\n",
    "        part=\",\".join(body.keys()),\n",
    "        body=body,\n",
    "        # The chunksize parameter specifies the size of each chunk of data, in\n",
    "        # bytes, that will be uploaded at a time. Set a higher value for\n",
    "        # reliable connections as fewer chunks lead to faster uploads. Set a lower\n",
    "        # value for better recovery on less reliable connections.\n",
    "        #\n",
    "        # Setting \"chunksize\" equal to -1 in the code below means that the entire\n",
    "        # file will be uploaded in a single HTTP request. (If the upload fails,\n",
    "        # it will still be retried where it left off.) This is usually a best\n",
    "        # practice, but if you're using Python older than 2.6 or if you're\n",
    "        # running on App Engine, you should set the chunksize to something like\n",
    "        # 1024 * 1024 (1 megabyte).\n",
    "        media_body=MediaFileUpload(options.file, chunksize=-1, resumable=True)\n",
    "    )\n",
    "\n",
    "    resumable_upload(insert_request)\n",
    "\n",
    "# This method implements an exponential backoff strategy to resume a\n",
    "# failed upload.\n",
    "\n",
    "\n",
    "def resumable_upload(insert_request):\n",
    "    response = None\n",
    "    error = None\n",
    "    retry = 0\n",
    "    while response is None:\n",
    "        try:\n",
    "            print(\"Uploading file...\")\n",
    "            status, response = insert_request.next_chunk()\n",
    "            if response is not None:\n",
    "                if 'id' in response:\n",
    "                    print(\"Video id '%s' was successfully uploaded.\" %\n",
    "                          response['id'])\n",
    "                else:\n",
    "                    exit(\"The upload failed with an unexpected response: %s\" % response)\n",
    "        except HttpError as e:\n",
    "            if e.resp.status in RETRIABLE_STATUS_CODES:\n",
    "                error = \"A retriable HTTP error %d occurred:\\n%s\" % (e.resp.status,\n",
    "                                                                     e.content)\n",
    "            else:\n",
    "                raise\n",
    "        except RETRIABLE_EXCEPTIONS as e:\n",
    "            error = \"A retriable error occurred: %s\" % e\n",
    "\n",
    "        if error is not None:\n",
    "            print(error)\n",
    "            retry += 1\n",
    "            if retry > MAX_RETRIES:\n",
    "                exit(\"No longer attempting to retry.\")\n",
    "\n",
    "            max_sleep = 2 ** retry\n",
    "            sleep_seconds = random.random() * max_sleep\n",
    "            print(\"Sleeping %f seconds and then retrying...\" % sleep_seconds)\n",
    "            time.sleep(sleep_seconds)"
   ]
  },
  {
   "cell_type": "code",
   "execution_count": 11,
   "metadata": {},
   "outputs": [
    {
     "ename": "ArgumentError",
     "evalue": "argument --file: conflicting option string: --file",
     "output_type": "error",
     "traceback": [
      "\u001b[1;31m---------------------------------------------------------------------------\u001b[0m",
      "\u001b[1;31mArgumentError\u001b[0m                             Traceback (most recent call last)",
      "Cell \u001b[1;32mIn[11], line 2\u001b[0m\n\u001b[0;32m      1\u001b[0m \u001b[38;5;28;01mif\u001b[39;00m \u001b[38;5;18m__name__\u001b[39m \u001b[38;5;241m==\u001b[39m \u001b[38;5;124m'\u001b[39m\u001b[38;5;124m__main__\u001b[39m\u001b[38;5;124m'\u001b[39m:\n\u001b[1;32m----> 2\u001b[0m     \u001b[43margparser\u001b[49m\u001b[38;5;241;43m.\u001b[39;49m\u001b[43madd_argument\u001b[49m\u001b[43m(\u001b[49m\u001b[38;5;124;43m\"\u001b[39;49m\u001b[38;5;124;43m--file\u001b[39;49m\u001b[38;5;124;43m\"\u001b[39;49m\u001b[43m,\u001b[49m\u001b[43m \u001b[49m\u001b[43mrequired\u001b[49m\u001b[38;5;241;43m=\u001b[39;49m\u001b[38;5;28;43;01mTrue\u001b[39;49;00m\u001b[43m,\u001b[49m\n\u001b[0;32m      3\u001b[0m \u001b[43m                           \u001b[49m\u001b[43mhelp\u001b[49m\u001b[38;5;241;43m=\u001b[39;49m\u001b[38;5;124;43m\"\u001b[39;49m\u001b[38;5;124;43mVideo file to upload\u001b[39;49m\u001b[38;5;124;43m\"\u001b[39;49m\u001b[43m)\u001b[49m\n\u001b[0;32m      4\u001b[0m     argparser\u001b[38;5;241m.\u001b[39madd_argument(\u001b[38;5;124m\"\u001b[39m\u001b[38;5;124m--title\u001b[39m\u001b[38;5;124m\"\u001b[39m, help\u001b[38;5;241m=\u001b[39m\u001b[38;5;124m\"\u001b[39m\u001b[38;5;124mVideo title\u001b[39m\u001b[38;5;124m\"\u001b[39m, default\u001b[38;5;241m=\u001b[39m\u001b[38;5;124m\"\u001b[39m\u001b[38;5;124mTest Title\u001b[39m\u001b[38;5;124m\"\u001b[39m)\n\u001b[0;32m      5\u001b[0m     argparser\u001b[38;5;241m.\u001b[39madd_argument(\u001b[38;5;124m\"\u001b[39m\u001b[38;5;124m--description\u001b[39m\u001b[38;5;124m\"\u001b[39m, help\u001b[38;5;241m=\u001b[39m\u001b[38;5;124m\"\u001b[39m\u001b[38;5;124mVideo description\u001b[39m\u001b[38;5;124m\"\u001b[39m,\n\u001b[0;32m      6\u001b[0m                            default\u001b[38;5;241m=\u001b[39m\u001b[38;5;124m\"\u001b[39m\u001b[38;5;124mTest Description\u001b[39m\u001b[38;5;124m\"\u001b[39m)\n",
      "File \u001b[1;32m~\\miniconda3\\Lib\\argparse.py:1490\u001b[0m, in \u001b[0;36m_ActionsContainer.add_argument\u001b[1;34m(self, *args, **kwargs)\u001b[0m\n\u001b[0;32m   1487\u001b[0m     \u001b[38;5;28;01mexcept\u001b[39;00m \u001b[38;5;167;01mTypeError\u001b[39;00m:\n\u001b[0;32m   1488\u001b[0m         \u001b[38;5;28;01mraise\u001b[39;00m \u001b[38;5;167;01mValueError\u001b[39;00m(\u001b[38;5;124m\"\u001b[39m\u001b[38;5;124mlength of metavar tuple does not match nargs\u001b[39m\u001b[38;5;124m\"\u001b[39m)\n\u001b[1;32m-> 1490\u001b[0m \u001b[38;5;28;01mreturn\u001b[39;00m \u001b[38;5;28;43mself\u001b[39;49m\u001b[38;5;241;43m.\u001b[39;49m\u001b[43m_add_action\u001b[49m\u001b[43m(\u001b[49m\u001b[43maction\u001b[49m\u001b[43m)\u001b[49m\n",
      "File \u001b[1;32m~\\miniconda3\\Lib\\argparse.py:1872\u001b[0m, in \u001b[0;36mArgumentParser._add_action\u001b[1;34m(self, action)\u001b[0m\n\u001b[0;32m   1870\u001b[0m \u001b[38;5;28;01mdef\u001b[39;00m \u001b[38;5;21m_add_action\u001b[39m(\u001b[38;5;28mself\u001b[39m, action):\n\u001b[0;32m   1871\u001b[0m     \u001b[38;5;28;01mif\u001b[39;00m action\u001b[38;5;241m.\u001b[39moption_strings:\n\u001b[1;32m-> 1872\u001b[0m         \u001b[38;5;28;43mself\u001b[39;49m\u001b[38;5;241;43m.\u001b[39;49m\u001b[43m_optionals\u001b[49m\u001b[38;5;241;43m.\u001b[39;49m\u001b[43m_add_action\u001b[49m\u001b[43m(\u001b[49m\u001b[43maction\u001b[49m\u001b[43m)\u001b[49m\n\u001b[0;32m   1873\u001b[0m     \u001b[38;5;28;01melse\u001b[39;00m:\n\u001b[0;32m   1874\u001b[0m         \u001b[38;5;28mself\u001b[39m\u001b[38;5;241m.\u001b[39m_positionals\u001b[38;5;241m.\u001b[39m_add_action(action)\n",
      "File \u001b[1;32m~\\miniconda3\\Lib\\argparse.py:1692\u001b[0m, in \u001b[0;36m_ArgumentGroup._add_action\u001b[1;34m(self, action)\u001b[0m\n\u001b[0;32m   1691\u001b[0m \u001b[38;5;28;01mdef\u001b[39;00m \u001b[38;5;21m_add_action\u001b[39m(\u001b[38;5;28mself\u001b[39m, action):\n\u001b[1;32m-> 1692\u001b[0m     action \u001b[38;5;241m=\u001b[39m \u001b[38;5;28;43msuper\u001b[39;49m\u001b[43m(\u001b[49m\u001b[43m_ArgumentGroup\u001b[49m\u001b[43m,\u001b[49m\u001b[43m \u001b[49m\u001b[38;5;28;43mself\u001b[39;49m\u001b[43m)\u001b[49m\u001b[38;5;241;43m.\u001b[39;49m\u001b[43m_add_action\u001b[49m\u001b[43m(\u001b[49m\u001b[43maction\u001b[49m\u001b[43m)\u001b[49m\n\u001b[0;32m   1693\u001b[0m     \u001b[38;5;28mself\u001b[39m\u001b[38;5;241m.\u001b[39m_group_actions\u001b[38;5;241m.\u001b[39mappend(action)\n\u001b[0;32m   1694\u001b[0m     \u001b[38;5;28;01mreturn\u001b[39;00m action\n",
      "File \u001b[1;32m~\\miniconda3\\Lib\\argparse.py:1504\u001b[0m, in \u001b[0;36m_ActionsContainer._add_action\u001b[1;34m(self, action)\u001b[0m\n\u001b[0;32m   1502\u001b[0m \u001b[38;5;28;01mdef\u001b[39;00m \u001b[38;5;21m_add_action\u001b[39m(\u001b[38;5;28mself\u001b[39m, action):\n\u001b[0;32m   1503\u001b[0m     \u001b[38;5;66;03m# resolve any conflicts\u001b[39;00m\n\u001b[1;32m-> 1504\u001b[0m     \u001b[38;5;28;43mself\u001b[39;49m\u001b[38;5;241;43m.\u001b[39;49m\u001b[43m_check_conflict\u001b[49m\u001b[43m(\u001b[49m\u001b[43maction\u001b[49m\u001b[43m)\u001b[49m\n\u001b[0;32m   1506\u001b[0m     \u001b[38;5;66;03m# add to actions list\u001b[39;00m\n\u001b[0;32m   1507\u001b[0m     \u001b[38;5;28mself\u001b[39m\u001b[38;5;241m.\u001b[39m_actions\u001b[38;5;241m.\u001b[39mappend(action)\n",
      "File \u001b[1;32m~\\miniconda3\\Lib\\argparse.py:1641\u001b[0m, in \u001b[0;36m_ActionsContainer._check_conflict\u001b[1;34m(self, action)\u001b[0m\n\u001b[0;32m   1639\u001b[0m \u001b[38;5;28;01mif\u001b[39;00m confl_optionals:\n\u001b[0;32m   1640\u001b[0m     conflict_handler \u001b[38;5;241m=\u001b[39m \u001b[38;5;28mself\u001b[39m\u001b[38;5;241m.\u001b[39m_get_handler()\n\u001b[1;32m-> 1641\u001b[0m     \u001b[43mconflict_handler\u001b[49m\u001b[43m(\u001b[49m\u001b[43maction\u001b[49m\u001b[43m,\u001b[49m\u001b[43m \u001b[49m\u001b[43mconfl_optionals\u001b[49m\u001b[43m)\u001b[49m\n",
      "File \u001b[1;32m~\\miniconda3\\Lib\\argparse.py:1650\u001b[0m, in \u001b[0;36m_ActionsContainer._handle_conflict_error\u001b[1;34m(self, action, conflicting_actions)\u001b[0m\n\u001b[0;32m   1644\u001b[0m message \u001b[38;5;241m=\u001b[39m ngettext(\u001b[38;5;124m'\u001b[39m\u001b[38;5;124mconflicting option string: \u001b[39m\u001b[38;5;132;01m%s\u001b[39;00m\u001b[38;5;124m'\u001b[39m,\n\u001b[0;32m   1645\u001b[0m                    \u001b[38;5;124m'\u001b[39m\u001b[38;5;124mconflicting option strings: \u001b[39m\u001b[38;5;132;01m%s\u001b[39;00m\u001b[38;5;124m'\u001b[39m,\n\u001b[0;32m   1646\u001b[0m                    \u001b[38;5;28mlen\u001b[39m(conflicting_actions))\n\u001b[0;32m   1647\u001b[0m conflict_string \u001b[38;5;241m=\u001b[39m \u001b[38;5;124m'\u001b[39m\u001b[38;5;124m, \u001b[39m\u001b[38;5;124m'\u001b[39m\u001b[38;5;241m.\u001b[39mjoin([option_string\n\u001b[0;32m   1648\u001b[0m                              \u001b[38;5;28;01mfor\u001b[39;00m option_string, action\n\u001b[0;32m   1649\u001b[0m                              \u001b[38;5;129;01min\u001b[39;00m conflicting_actions])\n\u001b[1;32m-> 1650\u001b[0m \u001b[38;5;28;01mraise\u001b[39;00m ArgumentError(action, message \u001b[38;5;241m%\u001b[39m conflict_string)\n",
      "\u001b[1;31mArgumentError\u001b[0m: argument --file: conflicting option string: --file"
     ]
    }
   ],
   "source": [
    "if __name__ == '__main__':\n",
    "    argparser.add_argument(\"--file\", required=True,\n",
    "                           help=\"Video file to upload\")\n",
    "    argparser.add_argument(\"--title\", help=\"Video title\", default=\"Test Title\")\n",
    "    argparser.add_argument(\"--description\", help=\"Video description\",\n",
    "                           default=\"Test Description\")\n",
    "    argparser.add_argument(\"--category\", default=\"22\",\n",
    "                           help=\"Numeric video category. \" +\n",
    "                           \"See https://developers.google.com/youtube/v3/docs/videoCategories/list\")\n",
    "    argparser.add_argument(\"--keywords\", help=\"Video keywords, comma separated\",\n",
    "                           default=\"\")\n",
    "    argparser.add_argument(\"--privacyStatus\", choices=VALID_PRIVACY_STATUSES,\n",
    "                           default=VALID_PRIVACY_STATUSES[0], help=\"Video privacy status.\")\n",
    "    args = argparser.parse_args()\n",
    "\n",
    "    if not os.path.exists(args.file):\n",
    "        exit(\"Please specify a valid file using the --file= parameter.\")\n",
    "\n",
    "    youtube = get_authenticated_service(args)\n",
    "    try:\n",
    "        initialize_upload(youtube, args)\n",
    "    except HttpError as e:\n",
    "        print(\"An HTTP error %d occurred:\\n%s\" % (e.resp.status, e.content))"
   ]
  }
 ],
 "metadata": {
  "kernelspec": {
   "display_name": "Python 3",
   "language": "python",
   "name": "python3"
  },
  "language_info": {
   "codemirror_mode": {
    "name": "ipython",
    "version": 3
   },
   "file_extension": ".py",
   "mimetype": "text/x-python",
   "name": "python",
   "nbconvert_exporter": "python",
   "pygments_lexer": "ipython3",
   "version": "3.12.1"
  }
 },
 "nbformat": 4,
 "nbformat_minor": 2
}
