{
 "cells": [
  {
   "cell_type": "code",
   "execution_count": 13,
   "metadata": {},
   "outputs": [],
   "source": [
    "import os\n",
    "from moviepy.editor import VideoFileClip, concatenate_videoclips, TextClip, ImageClip, CompositeVideoClip, AudioFileClip\n",
    "import pyttsx3 as tts\n",
    "import whisper\n",
    "\n",
    "def speak(text):\n",
    "    engine = tts.init()\n",
    "    engine.save_to_file(text, 'samp.mp3')\n",
    "    engine.runAndWait()\n",
    "    \n",
    "\n",
    "def get_files_in_directory(directory):\n",
    "    return [f for f in os.listdir(directory) if os.path.isfile(os.path.join(directory, f))]\n"
   ]
  },
  {
   "cell_type": "code",
   "execution_count": null,
   "metadata": {},
   "outputs": [],
   "source": [
    "def speech_to_text(audio_file):\n",
    "    model = whisper.load_model(\"base\")\n",
    "    result = model.transcribe(audio = audio_file)\n",
    "\n",
    "    start = [result['segments'][i]['start'] for i in range(len(result['segments']))]\n",
    "    end = [result['segments'][j]['end'] for j in range(len(result['segments']))]\n",
    "    text = [result['segments'][k]['text'] for k in range(len(result['segments']))]\n",
    "\n",
    "    return [start, end, text]\n",
    "\n",
    "speech = speech_to_text(\"samp.mp3\")\n",
    "speech"
   ]
  },
  {
   "cell_type": "code",
   "execution_count": null,
   "metadata": {},
   "outputs": [],
   "source": [
    "for l in range(len(speech[0])):\n",
    "    print(((speech[0][l], speech[1][l]), speech[2][l]))"
   ]
  },
  {
   "cell_type": "code",
   "execution_count": null,
   "metadata": {},
   "outputs": [],
   "source": [
    "from moviepy.video.tools.subtitles import SubtitlesClip\n",
    "\n",
    "def generate_video():\n",
    "    with open('samp.txt', 'r') as file:\n",
    "        text = file.read()\n",
    "    \n",
    "    lst = text.split(' ')\n",
    "\n",
    "    clips = []\n",
    "\n",
    "    generator = lambda txt: TextClip(txt, \n",
    "                                fontsize=70, \n",
    "                                color='white', \n",
    "                                bg_color='none', \n",
    "                                font='Arial-Bold',\n",
    "                                method = 'caption',\n",
    "                                size = (1920, 1080))\n",
    "\n",
    "    clips = [CompositeVideoClip([ImageClip('Z_1.jpg').set_duration(0.5).set_position('center')], size=(1920, 1080)) for _ in lst]\n",
    "\n",
    "    subs = [((speech[0][k], speech[1][k]), speech[2][k]) for k in range(len(speech[0]))]\n",
    "        \n",
    "\n",
    "    subtitles = SubtitlesClip(subs, generator)\n",
    "\n",
    "    final = concatenate_videoclips(clips)\n",
    "    audio = AudioFileClip(\"samp.mp3\")\n",
    "    final = final.set_audio(audio)\n",
    "    final_complete = CompositeVideoClip([final, subtitles.set_position(('center', 'bottom'))])\n",
    "    final_complete.write_videofile(\"output0.mp4\", fps=24, codec = 'libx264')"
   ]
  },
  {
   "cell_type": "code",
   "execution_count": null,
   "metadata": {},
   "outputs": [
    {
     "ename": "NameError",
     "evalue": "name 'speech' is not defined",
     "output_type": "error",
     "traceback": [
      "\u001b[1;31m---------------------------------------------------------------------------\u001b[0m",
      "\u001b[1;31mNameError\u001b[0m                                 Traceback (most recent call last)",
      "Cell \u001b[1;32mIn[12], line 1\u001b[0m\n\u001b[1;32m----> 1\u001b[0m \u001b[43mgenerate_video\u001b[49m\u001b[43m(\u001b[49m\u001b[43m)\u001b[49m\n",
      "Cell \u001b[1;32mIn[11], line 21\u001b[0m, in \u001b[0;36mgenerate_video\u001b[1;34m()\u001b[0m\n\u001b[0;32m     11\u001b[0m generator \u001b[38;5;241m=\u001b[39m \u001b[38;5;28;01mlambda\u001b[39;00m txt: TextClip(txt, \n\u001b[0;32m     12\u001b[0m                             fontsize\u001b[38;5;241m=\u001b[39m\u001b[38;5;241m70\u001b[39m, \n\u001b[0;32m     13\u001b[0m                             color\u001b[38;5;241m=\u001b[39m\u001b[38;5;124m'\u001b[39m\u001b[38;5;124mwhite\u001b[39m\u001b[38;5;124m'\u001b[39m, \n\u001b[1;32m   (...)\u001b[0m\n\u001b[0;32m     16\u001b[0m                             method \u001b[38;5;241m=\u001b[39m \u001b[38;5;124m'\u001b[39m\u001b[38;5;124mcaption\u001b[39m\u001b[38;5;124m'\u001b[39m,\n\u001b[0;32m     17\u001b[0m                             size \u001b[38;5;241m=\u001b[39m (\u001b[38;5;241m1920\u001b[39m, \u001b[38;5;241m1080\u001b[39m))\n\u001b[0;32m     19\u001b[0m clips \u001b[38;5;241m=\u001b[39m [CompositeVideoClip([ImageClip(\u001b[38;5;124m'\u001b[39m\u001b[38;5;124mZ_1.jpg\u001b[39m\u001b[38;5;124m'\u001b[39m)\u001b[38;5;241m.\u001b[39mset_duration(\u001b[38;5;241m0.5\u001b[39m)\u001b[38;5;241m.\u001b[39mset_position(\u001b[38;5;124m'\u001b[39m\u001b[38;5;124mcenter\u001b[39m\u001b[38;5;124m'\u001b[39m)], size\u001b[38;5;241m=\u001b[39m(\u001b[38;5;241m1920\u001b[39m, \u001b[38;5;241m1080\u001b[39m)) \u001b[38;5;28;01mfor\u001b[39;00m _ \u001b[38;5;129;01min\u001b[39;00m lst]\n\u001b[1;32m---> 21\u001b[0m subs \u001b[38;5;241m=\u001b[39m [((speech[\u001b[38;5;241m0\u001b[39m][k], speech[\u001b[38;5;241m1\u001b[39m][k]), speech[\u001b[38;5;241m2\u001b[39m][k]) \u001b[38;5;28;01mfor\u001b[39;00m k \u001b[38;5;129;01min\u001b[39;00m \u001b[38;5;28mrange\u001b[39m(\u001b[38;5;28mlen\u001b[39m(\u001b[43mspeech\u001b[49m[\u001b[38;5;241m0\u001b[39m]))]\n\u001b[0;32m     24\u001b[0m subtitles \u001b[38;5;241m=\u001b[39m SubtitlesClip(subs, generator)\n\u001b[0;32m     26\u001b[0m final \u001b[38;5;241m=\u001b[39m concatenate_videoclips(clips)\n",
      "\u001b[1;31mNameError\u001b[0m: name 'speech' is not defined"
     ]
    }
   ],
   "source": [
    "generate_video()"
   ]
  }
 ],
 "metadata": {
  "kernelspec": {
   "display_name": "Python 3",
   "language": "python",
   "name": "python3"
  },
  "language_info": {
   "codemirror_mode": {
    "name": "ipython",
    "version": 3
   },
   "file_extension": ".py",
   "mimetype": "text/x-python",
   "name": "python",
   "nbconvert_exporter": "python",
   "pygments_lexer": "ipython3",
   "version": "3.11.6"
  }
 },
 "nbformat": 4,
 "nbformat_minor": 2
}
