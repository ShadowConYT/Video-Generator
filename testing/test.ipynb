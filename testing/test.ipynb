{
 "cells": [
  {
   "cell_type": "code",
   "execution_count": 13,
   "metadata": {},
   "outputs": [],
   "source": [
    "import os\n",
    "from moviepy.editor import VideoFileClip, concatenate_videoclips, TextClip, ImageClip, CompositeVideoClip, AudioFileClip\n",
    "import pyttsx3 as tts\n",
    "import whisper\n",
    "\n",
    "def speak(text):\n",
    "    engine = tts.init()\n",
    "    engine.save_to_file(text, 'samp.mp3')\n",
    "    engine.runAndWait()\n",
    "    \n",
    "\n",
    "def get_files_in_directory(directory):\n",
    "    return [f for f in os.listdir(directory) if os.path.isfile(os.path.join(directory, f))]\n"
   ]
  },
  {
   "cell_type": "code",
   "execution_count": 14,
   "metadata": {},
   "outputs": [
    {
     "data": {
      "text/plain": [
       "[[0.0,\n",
       "  5.12,\n",
       "  10.0,\n",
       "  13.72,\n",
       "  17.12,\n",
       "  19.64,\n",
       "  22.88,\n",
       "  27.24,\n",
       "  31.0,\n",
       "  34.92,\n",
       "  37.28,\n",
       "  39.96,\n",
       "  43.76,\n",
       "  46.32,\n",
       "  50.239999999999995,\n",
       "  53.16,\n",
       "  55.68,\n",
       "  58.12,\n",
       "  61.16,\n",
       "  64.36,\n",
       "  67.0,\n",
       "  69.76],\n",
       " [5.12,\n",
       "  10.0,\n",
       "  13.72,\n",
       "  17.12,\n",
       "  19.64,\n",
       "  22.88,\n",
       "  27.240000000000002,\n",
       "  31.0,\n",
       "  34.92,\n",
       "  37.28,\n",
       "  39.96,\n",
       "  43.76,\n",
       "  46.32,\n",
       "  50.239999999999995,\n",
       "  53.16,\n",
       "  55.68,\n",
       "  58.12,\n",
       "  61.16,\n",
       "  64.36,\n",
       "  67.0,\n",
       "  69.76,\n",
       "  72.2],\n",
       " [' Once upon a time, in a land far, far away, there was a dragon named Fafnir.',\n",
       "  ' He was a fearsome creature, with scales as hard as diamonds and claws as sharp as razors.',\n",
       "  ' His breath was fire, and his eyes were like molten gold.',\n",
       "  ' Fafnir lived in a cave on top of a mountain, and he guarded a treasure that was said to be',\n",
       "  ' worth more than all the gold in the world.',\n",
       "  ' One day, a brave knight named Seekfried came to the mountain.',\n",
       "  \" He had heard of Fafnir's treasure, and he was determined to take it for himself.\",\n",
       "  ' Seekfried climbed to the top of the mountain and found a cave where Fafnir lived.',\n",
       "  ' He drew his sword and charged into the cave, ready to face the dragon.',\n",
       "  ' Fafnir was surprised to see Seekfried.',\n",
       "  ' He had never been challenged by a human before.',\n",
       "  ' He roared and charged at Seekfried, breathing fire from his mouth.',\n",
       "  ' Seekfried dodged the fire and swung his sword.',\n",
       "  \" He struck Fafnir's scales, but the sword bounced off harmlessly.\",\n",
       "  ' Seekfried knew that he had to find a way to kill Fafnir.',\n",
       "  ' He looked around the cave and saw a large rock.',\n",
       "  ' He picked up the rock and threw it at Fafnir.',\n",
       "  \" The rock hit Fafnir's head and knocked him unconscious.\",\n",
       "  ' Seekfried quickly ran over to Fafnir and cut off his head.',\n",
       "  ' He then took the treasure and left the cave.',\n",
       "  ' Seekfried returned to his kingdom and was hailed as a hero.',\n",
       "  ' He used the treasure to help his people and to build a new kingdom.']]"
      ]
     },
     "execution_count": 14,
     "metadata": {},
     "output_type": "execute_result"
    }
   ],
   "source": [
    "def speech_to_text(audio_file):\n",
    "    model = whisper.load_model(\"base\")\n",
    "    result = model.transcribe(audio = audio_file)\n",
    "\n",
    "    start = [result['segments'][i]['start'] for i in range(len(result['segments']))]\n",
    "    end = [result['segments'][j]['end'] for j in range(len(result['segments']))]\n",
    "    text = [result['segments'][k]['text'] for k in range(len(result['segments']))]\n",
    "\n",
    "    return [start, end, text]\n",
    "\n",
    "speech = speech_to_text(\"samp.mp3\")\n",
    "speech"
   ]
  },
  {
   "cell_type": "code",
   "execution_count": 15,
   "metadata": {},
   "outputs": [
    {
     "name": "stdout",
     "output_type": "stream",
     "text": [
      "((0.0, 5.12), ' Once upon a time, in a land far, far away, there was a dragon named Fafnir.')\n",
      "((5.12, 10.0), ' He was a fearsome creature, with scales as hard as diamonds and claws as sharp as razors.')\n",
      "((10.0, 13.72), ' His breath was fire, and his eyes were like molten gold.')\n",
      "((13.72, 17.12), ' Fafnir lived in a cave on top of a mountain, and he guarded a treasure that was said to be')\n",
      "((17.12, 19.64), ' worth more than all the gold in the world.')\n",
      "((19.64, 22.88), ' One day, a brave knight named Seekfried came to the mountain.')\n",
      "((22.88, 27.240000000000002), \" He had heard of Fafnir's treasure, and he was determined to take it for himself.\")\n",
      "((27.24, 31.0), ' Seekfried climbed to the top of the mountain and found a cave where Fafnir lived.')\n",
      "((31.0, 34.92), ' He drew his sword and charged into the cave, ready to face the dragon.')\n",
      "((34.92, 37.28), ' Fafnir was surprised to see Seekfried.')\n",
      "((37.28, 39.96), ' He had never been challenged by a human before.')\n",
      "((39.96, 43.76), ' He roared and charged at Seekfried, breathing fire from his mouth.')\n",
      "((43.76, 46.32), ' Seekfried dodged the fire and swung his sword.')\n",
      "((46.32, 50.239999999999995), \" He struck Fafnir's scales, but the sword bounced off harmlessly.\")\n",
      "((50.239999999999995, 53.16), ' Seekfried knew that he had to find a way to kill Fafnir.')\n",
      "((53.16, 55.68), ' He looked around the cave and saw a large rock.')\n",
      "((55.68, 58.12), ' He picked up the rock and threw it at Fafnir.')\n",
      "((58.12, 61.16), \" The rock hit Fafnir's head and knocked him unconscious.\")\n",
      "((61.16, 64.36), ' Seekfried quickly ran over to Fafnir and cut off his head.')\n",
      "((64.36, 67.0), ' He then took the treasure and left the cave.')\n",
      "((67.0, 69.76), ' Seekfried returned to his kingdom and was hailed as a hero.')\n",
      "((69.76, 72.2), ' He used the treasure to help his people and to build a new kingdom.')\n"
     ]
    }
   ],
   "source": [
    "for l in range(len(speech[0])):\n",
    "    print(((speech[0][l], speech[1][l]), speech[2][l]))"
   ]
  },
  {
   "cell_type": "code",
   "execution_count": 16,
   "metadata": {},
   "outputs": [],
   "source": [
    "from moviepy.video.tools.subtitles import SubtitlesClip\n",
    "\n",
    "def generate_video():\n",
    "    with open('samp.txt', 'r') as file:\n",
    "        text = file.read()\n",
    "    \n",
    "    lst = text.split(' ')\n",
    "\n",
    "    clips = []\n",
    "\n",
    "    generator = lambda txt: TextClip(txt, \n",
    "                                fontsize=70, \n",
    "                                color='white', \n",
    "                                bg_color='none', \n",
    "                                font='Arial-Bold',\n",
    "                                method = 'caption',\n",
    "                                size = (1920, 1080))\n",
    "\n",
    "    clips = [CompositeVideoClip([ImageClip('Z_1.jpg').set_duration(0.5).set_position('center')], size=(1920, 1080)) for _ in lst]\n",
    "\n",
    "    subs = [((speech[0][k], speech[1][k]), speech[2][k]) for k in range(len(speech[0]))]\n",
    "        \n",
    "\n",
    "    subtitles = SubtitlesClip(subs, generator)\n",
    "\n",
    "    final = concatenate_videoclips(clips)\n",
    "    audio = AudioFileClip(\"samp.mp3\")\n",
    "    final = final.set_audio(audio)\n",
    "    final_complete = CompositeVideoClip([final, subtitles.set_position(('center', 'bottom'))])\n",
    "    final_complete.write_videofile(\"output0.mp4\", fps=24, codec = 'libx264')"
   ]
  },
  {
   "cell_type": "code",
   "execution_count": 17,
   "metadata": {},
   "outputs": [
    {
     "name": "stdout",
     "output_type": "stream",
     "text": [
      "Moviepy - Building video output0.mp4.\n",
      "MoviePy - Writing audio in output0TEMP_MPY_wvf_snd.mp3\n"
     ]
    },
    {
     "name": "stderr",
     "output_type": "stream",
     "text": [
      "                                                                      \r"
     ]
    },
    {
     "name": "stdout",
     "output_type": "stream",
     "text": [
      "MoviePy - Done.\n",
      "Moviepy - Writing video output0.mp4\n",
      "\n"
     ]
    },
    {
     "name": "stderr",
     "output_type": "stream",
     "text": [
      "                                                                \r"
     ]
    },
    {
     "name": "stdout",
     "output_type": "stream",
     "text": [
      "Moviepy - Done !\n",
      "Moviepy - video ready output0.mp4\n"
     ]
    }
   ],
   "source": [
    "generate_video()"
   ]
  }
 ],
 "metadata": {
  "kernelspec": {
   "display_name": "Python 3",
   "language": "python",
   "name": "python3"
  },
  "language_info": {
   "codemirror_mode": {
    "name": "ipython",
    "version": 3
   },
   "file_extension": ".py",
   "mimetype": "text/x-python",
   "name": "python",
   "nbconvert_exporter": "python",
   "pygments_lexer": "ipython3",
   "version": "3.11.6"
  }
 },
 "nbformat": 4,
 "nbformat_minor": 2
}
