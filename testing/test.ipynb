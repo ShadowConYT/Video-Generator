{
 "cells": [
  {
   "cell_type": "code",
   "execution_count": 4,
   "metadata": {},
   "outputs": [],
   "source": [
    "import os\n",
    "from moviepy.editor import VideoFileClip, concatenate_videoclips, TextClip, ImageClip, CompositeVideoClip, AudioFileClip\n",
    "import pyttsx3 as tts\n",
    "\n",
    "def speak(text):\n",
    "    engine = tts.init()\n",
    "    engine.save_to_file(text, 'samp.mp3')\n",
    "    engine.runAndWait()\n",
    "    \n",
    "\n",
    "def get_files_in_directory(directory):\n",
    "    return [f for f in os.listdir(directory) if os.path.isfile(os.path.join(directory, f))]\n",
    "\n",
    "def generate_video():\n",
    "    with open('samp.txt', 'r') as file:\n",
    "        text = file.read()\n",
    "    \n",
    "    lst = text.split(' ')\n",
    "\n",
    "    clips = []\n",
    "\n",
    "    for i in range(len(lst)):\n",
    "        txt_data = TextClip(lst[i], fontsize=70, color='white', bg_color='none', font='Arial-Bold')\n",
    "        img_data = ImageClip('Z_1.jpg')\n",
    "        img_data = img_data.set_duration(0.5)\n",
    "        txt_data = txt_data.set_duration(0.5)\n",
    "        txt_data = txt_data.set_position('center')\n",
    "        img_data = img_data.set_position('center')\n",
    "\n",
    "\n",
    "        clipped = CompositeVideoClip([img_data, txt_data], size=(1920, 1080))\n",
    "        clips.append(clipped)\n",
    "\n",
    "    \n",
    "\n",
    "    final = concatenate_videoclips(clips)\n",
    "    audio = AudioFileClip(\"samp.mp3\")\n",
    "    final = final.set_audio(audio)\n",
    "    final.write_videofile(\"output0.mp4\", fps=24, codec = 'libx264')"
   ]
  },
  {
   "cell_type": "code",
   "execution_count": 6,
   "metadata": {},
   "outputs": [],
   "source": [
    "with open('samp.txt', 'r') as file:\n",
    "    text = file.read()\n",
    "\n",
    "speak(text)"
   ]
  },
  {
   "cell_type": "code",
   "execution_count": 7,
   "metadata": {},
   "outputs": [
    {
     "name": "stdout",
     "output_type": "stream",
     "text": [
      "Moviepy - Building video output0.mp4.\n",
      "MoviePy - Writing audio in output0TEMP_MPY_wvf_snd.mp3\n"
     ]
    },
    {
     "name": "stderr",
     "output_type": "stream",
     "text": [
      "                                                                      \r"
     ]
    },
    {
     "name": "stdout",
     "output_type": "stream",
     "text": [
      "MoviePy - Done.\n",
      "Moviepy - Writing video output0.mp4\n",
      "\n"
     ]
    },
    {
     "name": "stderr",
     "output_type": "stream",
     "text": [
      "                                                                \r"
     ]
    },
    {
     "name": "stdout",
     "output_type": "stream",
     "text": [
      "Moviepy - Done !\n",
      "Moviepy - video ready output0.mp4\n"
     ]
    }
   ],
   "source": [
    "generate_video()"
   ]
  }
 ],
 "metadata": {
  "kernelspec": {
   "display_name": "Python 3",
   "language": "python",
   "name": "python3"
  },
  "language_info": {
   "codemirror_mode": {
    "name": "ipython",
    "version": 3
   },
   "file_extension": ".py",
   "mimetype": "text/x-python",
   "name": "python",
   "nbconvert_exporter": "python",
   "pygments_lexer": "ipython3",
   "version": "3.11.6"
  }
 },
 "nbformat": 4,
 "nbformat_minor": 2
}
